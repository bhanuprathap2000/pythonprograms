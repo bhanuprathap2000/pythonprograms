{
 "cells": [
  {
   "cell_type": "markdown",
   "metadata": {},
   "source": [
    "# Linear regression \n",
    "Linear Regression is a statistical technique which is used to find the linear relationship between dependent and one or more independent variables. This technique is applicable for Supervised learning Regression problems where we try to predict a continuous variable.\n",
    "\n",
    "Linear Regression can be further classified into two types – Simple and Multiple Linear Regression. In this project, I used multiple Linear Regression technique where I have some independent and one dependent variable. "
   ]
  },
  {
   "cell_type": "code",
   "execution_count": 1,
   "metadata": {},
   "outputs": [
    {
     "name": "stdout",
     "output_type": "stream",
     "text": [
      "[-6.25990775e-01  7.52195091e-01  8.72775325e-01  1.40150017e-07]\n",
      "0.8140938094220473\n"
     ]
    }
   ],
   "source": [
    "#In this model i took only one year we can increase dataset by including many years \n",
    "\n",
    "#importing the necessary modules and library\n",
    "import pandas as pd\n",
    "import numpy as np\n",
    "import matplotlib.pyplot as plt\n",
    "from sklearn.model_selection import train_test_split\n",
    "from sklearn.linear_model import LinearRegression\n",
    "from sklearn import metrics\n",
    "\n",
    "#loading the csv file into dataframe\n",
    "\n",
    "stock=pd.read_csv(\"reliance.csv\",index_col=\"Date\")\n",
    "stock.rename(columns={\"Total Traded Quantity\":\"Volume\"},inplace=True)#renaming the column name\n",
    "\n",
    "from matplotlib import style\n",
    "style.use('ggplot')\n",
    "\n",
    "#retreving the open,high,low and volume in X and closing into Y\n",
    "\n",
    "X=stock[[\"Open Price\",\"High Price\",\"Low Price\",\"Volume\"]].values \n",
    "Y=stock[\"Close Price\"].values\n",
    "\n",
    "#spliting the data into training and testing dataset\n",
    "x_train,x_test,y_train,y_test = train_test_split(X,Y,test_size=0.2,random_state=0)\n",
    "\n",
    "#creating the linear model \n",
    "reg=LinearRegression()\n",
    "\n",
    "#traning the linear model\n",
    "reg.fit(x_train,y_train)\n",
    "print(reg.coef_)\n",
    "print(reg.intercept_)\n",
    "\n",
    "\n"
   ]
  },
  {
   "cell_type": "markdown",
   "metadata": {},
   "source": [
    "# predicting on the train dataset"
   ]
  },
  {
   "cell_type": "code",
   "execution_count": 4,
   "metadata": {},
   "outputs": [
    {
     "name": "stdout",
     "output_type": "stream",
     "text": [
      "R2 score: 0.9991949846802639\n",
      "Mean Absolute Error: 7.397206576558022\n",
      "Mean Squared Error: 102.44259821476588\n",
      "Root Mean Squared Error: 10.12139309654387\n"
     ]
    },
    {
     "data": {
      "text/plain": [
       "<matplotlib.axes._subplots.AxesSubplot at 0x1302c993940>"
      ]
     },
     "execution_count": 4,
     "metadata": {},
     "output_type": "execute_result"
    },
    {
     "data": {
      "image/png": "[encoded data removed]",
      "text/plain": [
       "<Figure size 432x288 with 1 Axes>"
      ]
     },
     "metadata": {},
     "output_type": "display_data"
    }
   ],
   "source": [
    "y_pred = reg.predict(x_train)\n",
    "result = pd.DataFrame({'Actual':y_train.flatten(),'Predicted':y_pred.flatten()})#converting predicted and actual into dataframe \n",
    "\n",
    "\n",
    "#metrics to show the performance\n",
    "print('R2 score:', metrics.r2_score(y_train, y_pred))\n",
    "print('Mean Absolute Error:', metrics.mean_absolute_error(y_train, y_pred))\n",
    "print('Mean Squared Error:', metrics.mean_squared_error(y_train, y_pred))\n",
    "print('Root Mean Squared Error:', np.sqrt(metrics.mean_squared_error(y_train, y_pred)))\n",
    "result.plot(kind=\"bar\")\n"
   ]
  },
  {
   "cell_type": "markdown",
   "metadata": {},
   "source": [
    "# predicting on the test dataset"
   ]
  },
  {
   "cell_type": "code",
   "execution_count": 5,
   "metadata": {},
   "outputs": [
    {
     "name": "stdout",
     "output_type": "stream",
     "text": [
      "R2 score: 0.9981001953660082\n",
      "Mean Absolute Error: 10.981706594388813\n",
      "Mean Squared Error: 231.080724817578\n",
      "Root Mean Squared Error: 15.201339573129006\n"
     ]
    },
    {
     "data": {
      "text/plain": [
       "<matplotlib.axes._subplots.AxesSubplot at 0x1302cf0fbe0>"
      ]
     },
     "execution_count": 5,
     "metadata": {},
     "output_type": "execute_result"
    },
    {
     "data": {
      "image/png": "[encoded data removed]",
      "text/plain": [
       "<Figure size 432x288 with 1 Axes>"
      ]
     },
     "metadata": {},
     "output_type": "display_data"
    }
   ],
   "source": [
    "y_pred = reg.predict(x_test)#predicting on the test dataset\n",
    "result = pd.DataFrame({'Actual':y_test.flatten(),'Predicted':y_pred.flatten()})#converting predicted and actual into dataframe \n",
    "\n",
    "#metrics to show the performance\n",
    "print('R2 score:', metrics.r2_score(y_test, y_pred))\n",
    "print('Mean Absolute Error:', metrics.mean_absolute_error(y_test, y_pred))\n",
    "print('Mean Squared Error:', metrics.mean_squared_error(y_test, y_pred))\n",
    "print('Root Mean Squared Error:', np.sqrt(metrics.mean_squared_error(y_test, y_pred)))\n",
    "result.plot(kind=\"bar\")"
   ]
  },
  {
   "cell_type": "markdown",
   "metadata": {},
   "source": [
    "# Enter the open,high,low prices and volume\n"
   ]
  },
  {
   "cell_type": "code",
   "execution_count": 9,
   "metadata": {},
   "outputs": [
    {
     "name": "stdout",
     "output_type": "stream",
     "text": [
      "Enter the values in this order first open,high,low prices and then volume for that day2244\n",
      "Enter the values in this order first open,high,low prices and then volume for that day2249\n",
      "Enter the values in this order first open,high,low prices and then volume for that day2206\n",
      "Enter the values in this order first open,high,low prices and then volume for that day87330000\n"
     ]
    }
   ],
   "source": [
    "list=[]\n",
    "for i in range(0,4):\n",
    "    a=input(\"Enter the values in this order first open,high,low prices and then volume for that day\")\n",
    "    list.append(a)\n",
    "data=np.array(list,dtype=\"float64\").reshape(1,-1)\n",
    "close=reg.predict(data)\n"
   ]
  },
  {
   "cell_type": "code",
   "execution_count": 10,
   "metadata": {},
   "outputs": [
    {
     "data": {
      "text/plain": [
       "array([2225.35922228])"
      ]
     },
     "execution_count": 10,
     "metadata": {},
     "output_type": "execute_result"
    }
   ],
   "source": [
    "close"
   ]
  },
  {
   "cell_type": "code",
   "execution_count": null,
   "metadata": {},
   "outputs": [],
   "source": []
  }
 ],
 "metadata": {
  "kernelspec": {
   "display_name": "Python 3",
   "language": "python",
   "name": "python3"
  },
  "language_info": {
   "codemirror_mode": {
    "name": "ipython",
    "version": 3
   },
   "file_extension": ".py",
   "mimetype": "text/x-python",
   "name": "python",
   "nbconvert_exporter": "python",
   "pygments_lexer": "ipython3",
   "version": "3.8.3"
  }
 },
 "nbformat": 4,
 "nbformat_minor": 4
}

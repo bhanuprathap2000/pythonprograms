{
 "cells": [
  {
   "cell_type": "markdown",
   "metadata": {},
   "source": [
    "# Program for finding whether a number is prime number or not"
   ]
  },
  {
   "cell_type": "markdown",
   "metadata": {},
   "source": [
    "1.first we will be taking input from the user.\n",
    "\n",
    "\n"
   ]
  },
  {
   "cell_type": "markdown",
   "metadata": {},
   "source": [
    "2.Then we will be checking if the number is greater than 1 because numbers less than 1 are not prime numbers.\n"
   ]
  },
  {
   "cell_type": "markdown",
   "metadata": {},
   "source": [
    "3.Then we will be checking divisibility of number begining from 2 to (number-1)\n",
    "**ex**:5 so we will checking from 2 to 4."
   ]
  },
  {
   "cell_type": "markdown",
   "metadata": {},
   "source": [
    "4.If the number is divisible by any number other than 1 and number itself then it is not a prime number."
   ]
  },
  {
   "cell_type": "markdown",
   "metadata": {},
   "source": [
    "5.But we need to understand that 2 is a prime number and we should take care of that condition as well."
   ]
  },
  {
   "cell_type": "code",
   "execution_count": 8,
   "metadata": {},
   "outputs": [
    {
     "name": "stdout",
     "output_type": "stream",
     "text": [
      "Enter the number13\n",
      "13 is a prime number\n"
     ]
    }
   ],
   "source": [
    "num=int(input(\"Enter the number\"))\n",
    "if num>1:\n",
    "    for x in range(2,num):\n",
    "        if num%x==0:\n",
    "            print(num,\" is not a prime number\")\n",
    "            break\n",
    "        else:\n",
    "            print(num, \"is a prime number\")\n",
    "            break\n",
    "    else:\n",
    "        print(num,' is a prime number')\n",
    "else:\n",
    "    print(num,\" is not a prime number\")\n",
    "    "
   ]
  },
  {
   "cell_type": "code",
   "execution_count": null,
   "metadata": {},
   "outputs": [],
   "source": []
  }
 ],
 "metadata": {
  "kernelspec": {
   "display_name": "Python 3",
   "language": "python",
   "name": "python3"
  },
  "language_info": {
   "codemirror_mode": {
    "name": "ipython",
    "version": 3
   },
   "file_extension": ".py",
   "mimetype": "text/x-python",
   "name": "python",
   "nbconvert_exporter": "python",
   "pygments_lexer": "ipython3",
   "version": "3.7.6"
  }
 },
 "nbformat": 4,
 "nbformat_minor": 4
}
